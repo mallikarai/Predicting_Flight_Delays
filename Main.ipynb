{
 "cells": [
  {
   "cell_type": "code",
   "execution_count": 516,
   "id": "bb6447da-a948-47ad-8d1c-f18350f55bc7",
   "metadata": {},
   "outputs": [],
   "source": [
    "# Ignore warnings\n",
    "import warnings\n",
    "warnings.filterwarnings('ignore')\n",
    "\n",
    "#Importing required libraries\n",
    "import pandas as pd\n",
    "import numpy as np\n",
    "import matplotlib.pyplot as plt\n",
    "import sklearn as sk\n",
    "import seaborn as sns\n",
    "import datetime\n",
    "\n",
    "#Settings\n",
    "pd.set_option(\"display.max_columns\", None)"
   ]
  },
  {
   "cell_type": "code",
   "execution_count": null,
   "id": "c61947d6-14b0-4018-bf98-b0e0e39b5a74",
   "metadata": {},
   "outputs": [],
   "source": []
  },
  {
   "cell_type": "code",
   "execution_count": null,
   "id": "bc08fb9a-010f-4da9-9dec-9f52aec148d8",
   "metadata": {},
   "outputs": [],
   "source": [
    "airlines_names = pd.read_csv('Yearly_Data/airlines.csv')\n",
    "abbr_companies = airlines_names.set_index('IATA_CODE')['AIRLINE'].to_dict()"
   ]
  },
  {
   "cell_type": "code",
   "execution_count": 517,
   "id": "596b5713-76a8-4200-bf1d-587a5e2dd566",
   "metadata": {},
   "outputs": [
    {
     "data": {
      "text/plain": [
       "{'WN': 'Southwest Airlines Co.',\n",
       " 'YV': 'Mesa Airlines',\n",
       " 'YX': 'Republic Airlines',\n",
       " 'EV': 'ExpressJet Airlines ',\n",
       " 'AS': 'Alaska Airlines Inc.',\n",
       " 'OH': 'PSA Airlines',\n",
       " 'UA': 'United Air Lines Inc.',\n",
       " 'MQ': 'American Eagle Airlines Inc.',\n",
       " 'DL': 'Delta Air Lines Inc.',\n",
       " 'AA': 'American Airlines Inc.',\n",
       " 'OO': 'Skywest Airlines Inc.',\n",
       " '9E': 'Endeavor Air',\n",
       " 'B6': 'JetBlue Airways',\n",
       " 'F9': 'Frontier Airlines Inc.',\n",
       " 'NK': 'Spirit Air Lines',\n",
       " 'G4': 'Allegiant Air'}"
      ]
     },
     "execution_count": 517,
     "metadata": {},
     "output_type": "execute_result"
    }
   ],
   "source": [
    "abbr_companies"
   ]
  },
  {
   "cell_type": "code",
   "execution_count": null,
   "id": "c5e02ff0-09f1-48bd-9188-5afdfcc508af",
   "metadata": {},
   "outputs": [],
   "source": [
    "#Read train and store csv, join them into single dataframe and print head\n",
    "df_2015_1 = pd.read_csv('Yearly_Data/2015/440927628_T_ONTIME_REPORTING.csv', low_memory=False)\n",
    "df_2015_2 = pd.read_csv('Yearly_Data/2015/440927628_T_ONTIME_REPORTING 2.csv', low_memory=False)\n",
    "df_2015_3 = pd.read_csv('Yearly_Data/2015/440927628_T_ONTIME_REPORTING 3.csv', low_memory=False)\n",
    "df_2015_4 = pd.read_csv('Yearly_Data/2015/440927628_T_ONTIME_REPORTING 4.csv',  low_memory=False)\n",
    "df_2015_5 = pd.read_csv('Yearly_Data/2015/440927628_T_ONTIME_REPORTING 5.csv',  low_memory=False)\n",
    "df_2015_6 = pd.read_csv('Yearly_Data/2015/440927628_T_ONTIME_REPORTING 6.csv', low_memory=False)\n",
    "df_2015_7 = pd.read_csv('Yearly_Data/2015/440927628_T_ONTIME_REPORTING 7.csv', low_memory=False)\n",
    "df_2015_8 = pd.read_csv('Yearly_Data/2015/440927628_T_ONTIME_REPORTING 8.csv', low_memory=False)\n",
    "df_2015_9 = pd.read_csv('Yearly_Data/2015/440927628_T_ONTIME_REPORTING 9.csv',  low_memory=False)\n",
    "df_2015_10 = pd.read_csv('Yearly_Data/2015/440927628_T_ONTIME_REPORTING 10.csv', low_memory=False)\n",
    "df_2015_11 = pd.read_csv('Yearly_Data/2015/440927628_T_ONTIME_REPORTING 11.csv',  low_memory=False)\n",
    "df_2015_12 = pd.read_csv('Yearly_Data/2015/440927628_T_ONTIME_REPORTING 12.csv', low_memory=False)\n",
    "result_2015 = pd.concat([df_2015_1,df_2015_2,df_2015_3,df_2015_4,df_2015_5,df_2015_6,df_2015_7,df_2015_8,df_2015_9,df_2015_10,df_2015_11,df_2015_12])"
   ]
  },
  {
   "cell_type": "code",
   "execution_count": null,
   "id": "7206c52f-e643-46a9-aa69-e584a456a4a3",
   "metadata": {},
   "outputs": [],
   "source": [
    "#Read train and store csv, join them into single dataframe and print head\n",
    "df_2016_1 = pd.read_csv('Yearly_Data/2016/440927628_T_ONTIME_REPORTING.csv', low_memory=False)\n",
    "df_2016_2 = pd.read_csv('Yearly_Data/2016/440927628_T_ONTIME_REPORTING 2.csv', low_memory=False)\n",
    "df_2016_3 = pd.read_csv('Yearly_Data/2016/440927628_T_ONTIME_REPORTING 3.csv', low_memory=False)\n",
    "df_2016_4 = pd.read_csv('Yearly_Data/2016/440927628_T_ONTIME_REPORTING 4.csv',  low_memory=False)\n",
    "df_2016_5 = pd.read_csv('Yearly_Data/2016/440927628_T_ONTIME_REPORTING 5.csv',  low_memory=False)\n",
    "df_2016_6 = pd.read_csv('Yearly_Data/2016/440927628_T_ONTIME_REPORTING 6.csv', low_memory=False)\n",
    "df_2016_7 = pd.read_csv('Yearly_Data/2016/440927628_T_ONTIME_REPORTING 7.csv', low_memory=False)\n",
    "df_2016_8 = pd.read_csv('Yearly_Data/2016/440927628_T_ONTIME_REPORTING 8.csv', low_memory=False)\n",
    "df_2016_9 = pd.read_csv('Yearly_Data/2016/440927628_T_ONTIME_REPORTING 9.csv',  low_memory=False)\n",
    "df_2016_10 = pd.read_csv('Yearly_Data/2016/440927628_T_ONTIME_REPORTING 10.csv', low_memory=False)\n",
    "df_2016_11 = pd.read_csv('Yearly_Data/2016/440927628_T_ONTIME_REPORTING 11.csv',  low_memory=False)\n",
    "df_2016_12 = pd.read_csv('Yearly_Data/2016/440927628_T_ONTIME_REPORTING 12.csv', low_memory=False)\n",
    "result_2016 = pd.concat([df_2016_1,df_2016_2,df_2016_3,df_2016_4,df_2016_5,df_2016_6,df_2016_7,df_2016_8,df_2016_9,df_2016_10,df_2016_11,df_2016_12])"
   ]
  },
  {
   "cell_type": "code",
   "execution_count": null,
   "id": "d3363301-736f-411d-8fa5-a94c6bdbc2ea",
   "metadata": {},
   "outputs": [],
   "source": [
    "#Read train and store csv, join them into single dataframe and print head\n",
    "df_2017_1 = pd.read_csv('Yearly_Data/2017/440927628_T_ONTIME_REPORTING.csv', low_memory=False)\n",
    "df_2017_2 = pd.read_csv('Yearly_Data/2017/440927628_T_ONTIME_REPORTING 2.csv', low_memory=False)\n",
    "df_2017_3 = pd.read_csv('Yearly_Data/2017/440927628_T_ONTIME_REPORTING 3.csv', low_memory=False)\n",
    "df_2017_4 = pd.read_csv('Yearly_Data/2017/440927628_T_ONTIME_REPORTING 4.csv',  low_memory=False)\n",
    "df_2017_5 = pd.read_csv('Yearly_Data/2017/440927628_T_ONTIME_REPORTING 5.csv',  low_memory=False)\n",
    "df_2017_6 = pd.read_csv('Yearly_Data/2017/440927628_T_ONTIME_REPORTING 6.csv', low_memory=False)\n",
    "df_2017_7 = pd.read_csv('Yearly_Data/2017/440927628_T_ONTIME_REPORTING 7.csv', low_memory=False)\n",
    "df_2017_8 = pd.read_csv('Yearly_Data/2017/440927628_T_ONTIME_REPORTING 8.csv', low_memory=False)\n",
    "df_2017_9 = pd.read_csv('Yearly_Data/2017/440927628_T_ONTIME_REPORTING 9.csv',  low_memory=False)\n",
    "df_2017_10 = pd.read_csv('Yearly_Data/2017/440927628_T_ONTIME_REPORTING 10.csv', low_memory=False)\n",
    "df_2017_11 = pd.read_csv('Yearly_Data/2017/440927628_T_ONTIME_REPORTING 11.csv',  low_memory=False)\n",
    "df_2017_12 = pd.read_csv('Yearly_Data/2017/440927628_T_ONTIME_REPORTING 12.csv', low_memory=False)\n",
    "result_2017 = pd.concat([df_2017_1,df_2017_2,df_2017_3,df_2017_4,df_2017_5,df_2017_6,df_2017_7,df_2017_8,df_2017_9,df_2017_10,df_2017_11,df_2017_12])"
   ]
  },
  {
   "cell_type": "code",
   "execution_count": null,
   "id": "8613cf3f-b6a4-4610-a65e-125a1ce0d1b6",
   "metadata": {},
   "outputs": [],
   "source": [
    "#Read train and store csv, join them into single dataframe and print head\n",
    "df_2018_1 = pd.read_csv('Yearly_Data/2018/440927628_T_ONTIME_REPORTING.csv', low_memory=False)\n",
    "df_2018_2 = pd.read_csv('Yearly_Data/2018/440927628_T_ONTIME_REPORTING 2.csv', low_memory=False)\n",
    "df_2018_3 = pd.read_csv('Yearly_Data/2018/440927628_T_ONTIME_REPORTING 3.csv', low_memory=False)\n",
    "df_2018_4 = pd.read_csv('Yearly_Data/2018/440927628_T_ONTIME_REPORTING 4.csv',  low_memory=False)\n",
    "df_2018_5 = pd.read_csv('Yearly_Data/2018/440927628_T_ONTIME_REPORTING 5.csv',  low_memory=False)\n",
    "df_2018_6 = pd.read_csv('Yearly_Data/2018/440927628_T_ONTIME_REPORTING 6.csv', low_memory=False)\n",
    "df_2018_7 = pd.read_csv('Yearly_Data/2018/440927628_T_ONTIME_REPORTING 7.csv', low_memory=False)\n",
    "df_2018_8 = pd.read_csv('Yearly_Data/2018/440927628_T_ONTIME_REPORTING 8.csv', low_memory=False)\n",
    "df_2018_9 = pd.read_csv('Yearly_Data/2018/440927628_T_ONTIME_REPORTING 9.csv',  low_memory=False)\n",
    "df_2018_10 = pd.read_csv('Yearly_Data/2018/440927628_T_ONTIME_REPORTING 10.csv', low_memory=False)\n",
    "df_2018_11 = pd.read_csv('Yearly_Data/2018/440927628_T_ONTIME_REPORTING 11.csv',  low_memory=False)\n",
    "df_2018_12 = pd.read_csv('Yearly_Data/2018/440927628_T_ONTIME_REPORTING 12.csv', low_memory=False)\n",
    "result_2018 = pd.concat([df_2018_1,df_2018_2,df_2018_3,df_2018_4,df_2018_5,df_2018_6,df_2018_7,df_2018_8,df_2018_9,df_2018_10,df_2018_11,df_2018_12])"
   ]
  },
  {
   "cell_type": "code",
   "execution_count": null,
   "id": "8645744a-c353-4806-9337-5bdbf8c97be3",
   "metadata": {},
   "outputs": [],
   "source": [
    "#Read train and store csv, join them into single dataframe and print head\n",
    "df_2019_1 = pd.read_csv('Yearly_Data/2019/440927628_T_ONTIME_REPORTING.csv', low_memory=False)\n",
    "df_2019_2 = pd.read_csv('Yearly_Data/2019/440927628_T_ONTIME_REPORTING 2.csv', low_memory=False)\n",
    "df_2019_3 = pd.read_csv('Yearly_Data/2019/440927628_T_ONTIME_REPORTING 3.csv', low_memory=False)\n",
    "df_2019_4 = pd.read_csv('Yearly_Data/2019/440927628_T_ONTIME_REPORTING 4.csv',  low_memory=False)\n",
    "df_2019_5 = pd.read_csv('Yearly_Data/2019/440927628_T_ONTIME_REPORTING 5.csv',  low_memory=False)\n",
    "df_2019_6 = pd.read_csv('Yearly_Data/2019/440927628_T_ONTIME_REPORTING 6.csv', low_memory=False)\n",
    "df_2019_7 = pd.read_csv('Yearly_Data/2019/440927628_T_ONTIME_REPORTING 7.csv', low_memory=False)\n",
    "df_2019_8 = pd.read_csv('Yearly_Data/2019/440927628_T_ONTIME_REPORTING 8.csv', low_memory=False)\n",
    "df_2019_9 = pd.read_csv('Yearly_Data/2019/440927628_T_ONTIME_REPORTING 9.csv',  low_memory=False)\n",
    "df_2019_10 = pd.read_csv('Yearly_Data/2019/440927628_T_ONTIME_REPORTING 10.csv', low_memory=False)\n",
    "df_2019_11 = pd.read_csv('Yearly_Data/2019/440927628_T_ONTIME_REPORTING 11.csv',  low_memory=False)\n",
    "df_2019_12 = pd.read_csv('Yearly_Data/2019/440927628_T_ONTIME_REPORTING 12.csv', low_memory=False)\n",
    "result_2019 = pd.concat([df_2019_1,df_2019_2,df_2019_3,df_2019_4,df_2019_5,df_2019_6,df_2019_7,df_2019_8,df_2019_9,df_2019_10,df_2019_11,df_2019_12])"
   ]
  },
  {
   "cell_type": "code",
   "execution_count": null,
   "id": "562907d9-4679-41a8-8c01-d4512f4adc7e",
   "metadata": {},
   "outputs": [],
   "source": [
    "#Read train and store csv, join them into single dataframe and print head\n",
    "df_2020_1 = pd.read_csv('Yearly_Data/2020/440925271_T_ONTIME_REPORTING.csv', low_memory=False)\n",
    "df_2020_2 = pd.read_csv('Yearly_Data/2020/440925271_T_ONTIME_REPORTING 2.csv', low_memory=False)\n",
    "df_2020_3 = pd.read_csv('Yearly_Data/2020/440925271_T_ONTIME_REPORTING 3.csv', low_memory=False)\n",
    "df_2020_4 = pd.read_csv('Yearly_Data/2020/440925271_T_ONTIME_REPORTING 4.csv',  low_memory=False)\n",
    "df_2020_5 = pd.read_csv('Yearly_Data/2020/440925271_T_ONTIME_REPORTING 5.csv',  low_memory=False)\n",
    "df_2020_6 = pd.read_csv('Yearly_Data/2020/440925271_T_ONTIME_REPORTING 6.csv', low_memory=False)\n",
    "df_2020_7 = pd.read_csv('Yearly_Data/2020/440925271_T_ONTIME_REPORTING 7.csv', low_memory=False)\n",
    "df_2020_8 = pd.read_csv('Yearly_Data/2020/440925271_T_ONTIME_REPORTING 8.csv', low_memory=False)\n",
    "df_2020_9 = pd.read_csv('Yearly_Data/2020/440925271_T_ONTIME_REPORTING 9.csv',  low_memory=False)\n",
    "df_2020_10 = pd.read_csv('Yearly_Data/2020/440925271_T_ONTIME_REPORTING 10.csv', low_memory=False)\n",
    "df_2020_11 = pd.read_csv('Yearly_Data/2020/440925271_T_ONTIME_REPORTING 11.csv',  low_memory=False)\n",
    "df_2020_12 = pd.read_csv('Yearly_Data/2020/440925271_T_ONTIME_REPORTING 12.csv', low_memory=False)\n",
    "result_2020 = pd.concat([df_2020_1,df_2020_2,df_2020_3,df_2020_4,df_2020_5,df_2020_6,df_2020_7,df_2020_8,df_2020_9,df_2020_10,df_2020_11,df_2020_12])"
   ]
  },
  {
   "cell_type": "code",
   "execution_count": null,
   "id": "8e417f84-4cfd-485b-8268-490d5ef85f8f",
   "metadata": {},
   "outputs": [],
   "source": [
    "df = pd.concat([result_2019,result_2020])"
   ]
  },
  {
   "cell_type": "code",
   "execution_count": null,
   "id": "f125a103-a88c-420b-b9a9-6da07468c9d7",
   "metadata": {},
   "outputs": [],
   "source": [
    "safe_copy = df.copy()"
   ]
  },
  {
   "cell_type": "code",
   "execution_count": null,
   "id": "1099c382-0986-48fe-aacb-650119f473c1",
   "metadata": {},
   "outputs": [],
   "source": [
    "#Top 20 businest airports\n",
    "busiest_airports_iata = [\"ATL\", \"DFW\", \"DEN\", \"ORD\", \"LAX\", \"CLT\", \"LAS\", \"PHX\", \"MCO\", \"SEA\", \"MIA\", \"IAH\", \"JFK\", \"FLL\", \"SFO\", \"EWR\", \"MSP\", \"DTW\", \"BOS\", \"PHL\"]\n",
    "df = df[df.DEST.isin(busiest_airports_iata) & (df.ORIGIN.isin(busiest_airports_iata))]"
   ]
  },
  {
   "cell_type": "code",
   "execution_count": null,
   "id": "b6de6154-8ccc-4811-ac04-4bb27c6d5c95",
   "metadata": {},
   "outputs": [],
   "source": [
    "#result_2015_to_2020 = pd.read_csv('result_2015_to_2020.csv', low_memory=False)"
   ]
  },
  {
   "cell_type": "code",
   "execution_count": null,
   "id": "95975fc6-9c73-4ff5-8060-f09be8564026",
   "metadata": {},
   "outputs": [],
   "source": [
    "df"
   ]
  },
  {
   "cell_type": "markdown",
   "id": "f4371b9d-fba7-4a38-a40f-e1e9bd2e014d",
   "metadata": {},
   "source": [
    "Feature cleaning"
   ]
  },
  {
   "cell_type": "code",
   "execution_count": null,
   "id": "5fe75fff-ec8a-4a40-bf56-cde6246b1383",
   "metadata": {},
   "outputs": [],
   "source": [
    "#Removing rows where arr delay is NAN\n",
    "#result_2015_to_2020.dropna('ARR_DELAY')\n",
    "df = df[df['ARR_DELAY'].notna()]\n",
    "#We don't need cancelled flights in our dataset\n",
    "df = df[df.CANCELLED !=1]\n",
    "#to date time\n",
    "df['FL_DATE'] = pd.to_datetime(df['FL_DATE'])"
   ]
  },
  {
   "cell_type": "code",
   "execution_count": null,
   "id": "8c9234de-7da3-402f-9224-bf9aecd20db2",
   "metadata": {},
   "outputs": [],
   "source": [
    "variables_to_remove = ['OP_UNIQUE_CARRIER','CARRIER_DELAY', 'WEATHER_DELAY', 'NAS_DELAY',\n",
    "       'SECURITY_DELAY', 'LATE_AIRCRAFT_DELAY', 'Unnamed: 46','CANCELLED','DIVERTED','FLIGHTS']\n",
    "df = df.drop(columns=variables_to_remove)"
   ]
  },
  {
   "cell_type": "code",
   "execution_count": null,
   "id": "b782cf2a-20b9-4cbb-9bee-2ae6554c7a37",
   "metadata": {},
   "outputs": [],
   "source": [
    "def format_heure(chaine):\n",
    "    if pd.isnull(chaine):\n",
    "        return np.nan\n",
    "    else:\n",
    "        if chaine == 2400: chaine = 0\n",
    "        chaine = \"{0:04d}\".format(int(chaine))\n",
    "        heure = datetime.time(int(chaine[0:2]), int(chaine[2:4]))\n",
    "        return heure\n",
    "#_____________________________________________________________________\n",
    "# Function that combines a date and time to produce a datetime.datetime\n",
    "'''def combine_date_heure(x):\n",
    "    if pd.isnull(x[0]) or pd.isnull(x[1]):\n",
    "        return np.nan\n",
    "    else:\n",
    "        return datetime.datetime.combine(x[0],x[1])\n",
    "#_______________________________________________________________________________\n",
    "# Function that combine two columns of the dataframe to create a datetime format\n",
    "def create_flight_time(df, col):    \n",
    "    liste = []\n",
    "    for index, cols in df[['DATE', col]].iterrows():    \n",
    "        if pd.isnull(cols[1]):\n",
    "            liste.append(np.nan)\n",
    "        elif float(cols[1]) == 2400:\n",
    "            cols[0] += datetime.timedelta(days=1)\n",
    "            cols[1] = datetime.time(0,0)\n",
    "            liste.append(combine_date_heure(cols))\n",
    "        else:\n",
    "            cols[1] = format_heure(cols[1])\n",
    "            liste.append(combine_date_heure(cols))\n",
    "    return pd.Series(liste)\n",
    "'''"
   ]
  },
  {
   "cell_type": "code",
   "execution_count": null,
   "id": "39bf65dc-33e3-4842-9ab2-02289e8d89ad",
   "metadata": {},
   "outputs": [],
   "source": [
    "#df['SCHEDULED_DEPARTURE'] = create_flight_time(result_2015_to_2020, 'SCHEDULED_DEPARTURE')\n",
    "df['CRS_ARR_TIME'] = df['CRS_ARR_TIME'].apply(format_heure)\n",
    "df['ARR_TIME'] = df['ARR_TIME'].apply(format_heure)\n",
    "df['CRS_DEP_TIME'] = df['CRS_DEP_TIME'].apply(format_heure)\n",
    "df['DEP_TIME'] = df['DEP_TIME'].apply(format_heure)"
   ]
  },
  {
   "cell_type": "code",
   "execution_count": null,
   "id": "61dd345c-1e82-4829-93dd-f45c78e90ab5",
   "metadata": {},
   "outputs": [],
   "source": [
    "'''\n",
    "result_2015_to_2020['DEP_TIME'] = result_2015_to_2020['DEP_TIME'].astype(int)\n",
    "result_2015_to_2020['ARR_TIME'] = result_2015_to_2020['ARR_TIME'].astype(int)\n",
    "'''"
   ]
  },
  {
   "cell_type": "code",
   "execution_count": null,
   "id": "9d82560b-8c88-49a2-af81-b7b1d5f67688",
   "metadata": {},
   "outputs": [],
   "source": [
    "tab_info=pd.DataFrame(df.dtypes).T.rename(index={0:'column type'})\n",
    "tab_info=tab_info.append(pd.DataFrame(df.isnull().sum()).T.rename(index={0:'null values (nb)'}))\n",
    "tab_info"
   ]
  },
  {
   "cell_type": "code",
   "execution_count": null,
   "id": "a2308256-c194-40be-938f-a699aee52908",
   "metadata": {},
   "outputs": [],
   "source": [
    "df['Total_Delay'] = df.DEP_DELAY_NEW+df.ARR_DELAY_NEW"
   ]
  },
  {
   "cell_type": "code",
   "execution_count": null,
   "id": "cfad6fea-2d30-421d-8b29-3f8378d68201",
   "metadata": {},
   "outputs": [],
   "source": [
    "df.Total_Delay.unique()"
   ]
  },
  {
   "cell_type": "code",
   "execution_count": null,
   "id": "2cbcb0fa-3f29-4160-8801-0c8a9ec586b7",
   "metadata": {},
   "outputs": [],
   "source": [
    "#_____________________________________________\n",
    "# Function that define how delays are grouped\n",
    "delay_type = lambda x:((0,1)[x > 5],2)[x > 45]\n",
    "df['DELAY_LEVEL'] = df['Total_Delay'].apply(delay_type)\n",
    "#____________________________________________________\n",
    "fig = plt.figure(1, figsize=(10,7))\n",
    "ax = sns.countplot(y=\"OP_CARRIER\", hue='DELAY_LEVEL', data=df)\n",
    "#____________________________________________________________________________________\n",
    "# We replace the abbreviations by the full names of the companies and set the labels\n",
    "labels = [abbr_companies[item.get_text()] for item in ax.get_yticklabels()]\n",
    "ax.set_yticklabels(labels)\n",
    "plt.setp(ax.get_xticklabels(), fontsize=12, weight = 'normal', rotation = 0);\n",
    "plt.setp(ax.get_yticklabels(), fontsize=12, weight = 'bold', rotation = 0);\n",
    "ax.yaxis.label.set_visible(False)\n",
    "plt.xlabel('Flight count', fontsize=16, weight = 'bold', labelpad=10)\n",
    "#________________\n",
    "# Set the legend\n",
    "L = plt.legend()\n",
    "L.get_texts()[0].set_text('on time (t < 5 min)')\n",
    "L.get_texts()[1].set_text('small delay (5 < t < 45 min)')\n",
    "L.get_texts()[2].set_text('large delay (t > 45 min)')\n",
    "plt.show()"
   ]
  },
  {
   "cell_type": "code",
   "execution_count": null,
   "id": "f0b1049b-0486-4307-ac86-9d4068a0eea1",
   "metadata": {},
   "outputs": [],
   "source": [
    "#_____________________________________________\n",
    "# Function that define how delays are grouped\n",
    "delay_type = lambda x:((0,1)[x > 5],2)[x > 45]\n",
    "df['ARR_LEVEL'] = df['ARR_DELAY'].apply(delay_type)\n",
    "#____________________________________________________\n",
    "fig = plt.figure(1, figsize=(10,7))\n",
    "ax = sns.countplot(y=\"OP_CARRIER\", hue='ARR_LEVEL', data=df)\n",
    "#____________________________________________________________________________________\n",
    "# We replace the abbreviations by the full names of the companies and set the labels\n",
    "labels = [abbr_companies[item.get_text()] for item in ax.get_yticklabels()]\n",
    "ax.set_yticklabels(labels)\n",
    "plt.setp(ax.get_xticklabels(), fontsize=12, weight = 'normal', rotation = 0);\n",
    "plt.setp(ax.get_yticklabels(), fontsize=12, weight = 'bold', rotation = 0);\n",
    "ax.yaxis.label.set_visible(False)\n",
    "plt.xlabel('Flight count', fontsize=16, weight = 'bold', labelpad=10)\n",
    "#________________\n",
    "# Set the legend\n",
    "L = plt.legend()\n",
    "L.get_texts()[0].set_text('on time (t < 5 min)')\n",
    "L.get_texts()[1].set_text('small delay (5 < t < 45 min)')\n",
    "L.get_texts()[2].set_text('large delay (t > 45 min)')\n",
    "plt.show()"
   ]
  },
  {
   "cell_type": "code",
   "execution_count": null,
   "id": "45387465-3a39-4330-9b9c-53a2294a117c",
   "metadata": {},
   "outputs": [],
   "source": [
    "sns.set(rc={'figure.figsize':(13,9)})\n",
    "sns.heatmap(df.corr(), vmin=-1, vmax=1, cmap='seismic');"
   ]
  },
  {
   "cell_type": "code",
   "execution_count": null,
   "id": "652a9f6c-6dc1-4a64-a91e-b9566836f269",
   "metadata": {},
   "outputs": [],
   "source": [
    "df"
   ]
  },
  {
   "cell_type": "code",
   "execution_count": null,
   "id": "b37144ae-86e4-4ecf-945e-6aa47ed57ead",
   "metadata": {},
   "outputs": [],
   "source": [
    "df.OP_CARRIER.unique()"
   ]
  },
  {
   "cell_type": "code",
   "execution_count": null,
   "id": "3e848736-3166-41b9-bd12-a448613db947",
   "metadata": {},
   "outputs": [],
   "source": [
    "busiest_airports_iata = [\"ATL\", \"DFW\", \"DEN\", \"ORD\", \"LAX\", \"CLT\", \"LAS\", \"PHX\", \"MCO\", \"SEA\", \"MIA\", \"IAH\", \"JFK\", \"FLL\", \"SFO\", \"EWR\", \"MSP\", \"DTW\", \"BOS\", \"PHL\"]"
   ]
  },
  {
   "cell_type": "code",
   "execution_count": null,
   "id": "3896d009-68bf-490e-9fea-eec9f8cb1675",
   "metadata": {},
   "outputs": [],
   "source": [
    "columns = [\"key\", \"date\", \"class\", \"expire_time_gmt\", \"obs_id\", \"obs_name\", \"valid_time_gmt\", \"day_ind\", \"temp\", \"wx_icon\", \"icon_extd\", \"wx_phrase\", \"pressure_tend\", \"pressure_desc\", \"dewPt\", \"heat_index\", \"rh\", \"pressure\", \"vis\", \"wc\", \"wdir\", \"wdir_cardinal\", \"gust\", \"wspd\", \"max_temp\", \"min_temp\", \"precip_total\", \"precip_hrly\", \"snow_hrly\", \"uv_desc\", \"feels_like\", \"uv_index\", \"qualifier\", \"qualifier_svrty\", \"blunt_phrase\", \"terse_phrase\", \"clds\", \"water_temp\", \"primary_wave_period\", \"primary_wave_height\", \"primary_swell_period\", \"primary_swell_height\", \"primary_swell_direction\", \"secondary_swell_period\", \"secondary_swell_height\", \"secondary_swell_direction\",]"
   ]
  },
  {
   "cell_type": "code",
   "execution_count": null,
   "id": "4036b2fa-6814-4982-88fe-607f98b27d02",
   "metadata": {},
   "outputs": [],
   "source": [
    "path = \"Weather_Data/\"  # use your path\n",
    "lst = []\n",
    "df_1 = pd.read_csv(path + \"ATL.csv\", low_memory=False)\n",
    "df_2 = pd.read_csv(path + \"DFW.csv\", low_memory=False)\n",
    "#main_list = pd.read_csv(path+\"ATL.csv\")\n",
    "\n",
    "for airport in busiest_airports_iata:\n",
    "    lst.append(pd.read_csv(path + airport + \".csv\", low_memory=False,names = columns))\n",
    "    #print(df[:, 0:2].head())\n",
    "    #print('---------------------')\n",
    "main_df = pd.concat(lst)    "
   ]
  },
  {
   "cell_type": "code",
   "execution_count": null,
   "id": "68e7d9e7-2c0f-4bb6-b1e2-3e2fddedbc82",
   "metadata": {},
   "outputs": [],
   "source": [
    "main_df = main_df[main_df['key'] != 'key']"
   ]
  },
  {
   "cell_type": "code",
   "execution_count": null,
   "id": "9ba548a3-d027-4ebe-a93a-63b548d92232",
   "metadata": {},
   "outputs": [],
   "source": [
    "main_df"
   ]
  },
  {
   "cell_type": "code",
   "execution_count": null,
   "id": "03211e75-aafd-4cd4-9828-8df18ac23c3d",
   "metadata": {},
   "outputs": [],
   "source": [
    "req_cols=['key','date','temp','pressure','wc','wspd', 'wx_phrase','dewPt','vis']"
   ]
  },
  {
   "cell_type": "code",
   "execution_count": null,
   "id": "1dee9758-a9be-4c99-b2b5-f50764388ec1",
   "metadata": {},
   "outputs": [],
   "source": [
    "main_df = main_df[req_cols]"
   ]
  },
  {
   "cell_type": "code",
   "execution_count": null,
   "id": "a125ffde-d6ea-4862-bcef-5f11674d6cab",
   "metadata": {},
   "outputs": [],
   "source": [
    "main_df = main_df.dropna()"
   ]
  },
  {
   "cell_type": "code",
   "execution_count": null,
   "id": "5759c8c6-b178-4690-ae04-bbe498658197",
   "metadata": {},
   "outputs": [],
   "source": [
    "main_df['key'] = main_df['key'].str.slice(start=1)"
   ]
  },
  {
   "cell_type": "code",
   "execution_count": null,
   "id": "bbad1144-38e0-4683-8aba-30a67b194c37",
   "metadata": {},
   "outputs": [],
   "source": [
    "main_df.reset_index(inplace=True)\n",
    "main_df=main_df.drop(columns=[\"index\"])"
   ]
  },
  {
   "cell_type": "code",
   "execution_count": null,
   "id": "64e65358-a974-4c49-b13b-42984232296c",
   "metadata": {},
   "outputs": [],
   "source": [
    "main_df"
   ]
  },
  {
   "cell_type": "code",
   "execution_count": null,
   "id": "932bdbde-6fbd-442f-884e-45f2a3744186",
   "metadata": {},
   "outputs": [],
   "source": [
    "main_df_preprocess = main_df.copy()"
   ]
  },
  {
   "cell_type": "code",
   "execution_count": null,
   "id": "1cfab432-d0a7-4acb-9bd4-10f351fa6e57",
   "metadata": {},
   "outputs": [],
   "source": [
    "main_df_preprocess"
   ]
  },
  {
   "cell_type": "code",
   "execution_count": null,
   "id": "9ae7ca0a-dddd-4c6b-8cc9-6b08d762cd4d",
   "metadata": {},
   "outputs": [],
   "source": [
    "df.head()"
   ]
  },
  {
   "cell_type": "code",
   "execution_count": null,
   "id": "e0640892-1930-4929-9828-9b5adebbd161",
   "metadata": {},
   "outputs": [],
   "source": [
    "main_df.key.unique()"
   ]
  },
  {
   "cell_type": "code",
   "execution_count": null,
   "id": "ec3f35eb-c786-4f36-ba5b-5531e93bb127",
   "metadata": {},
   "outputs": [],
   "source": [
    "dic = {'ATL': 'America/New_York', 'DFW': 'America/Chicago', 'DEN': 'America/Denver', 'ORD': 'America/Chicago', 'LAX': 'America/Los_Angeles', 'CLT': 'America/New_York', 'LAS': 'America/Los_Angeles', 'PHX': 'America/Phoenix', 'MCO': 'America/New_York',\n",
    "       'SEA': 'America/Los_Angeles', 'MIA' : 'America/New_York', 'IAH': 'America/Chicago', 'JFK': 'America/New_York', 'FLL': 'America/New_York', 'SFO': 'America/Los_Angeles', 'EWR': 'America/New_York', 'MSP': 'America/Chicago', 'DTW': 'America/Detroit',\n",
    "       'BOS': 'America/New_York', 'PHL': 'America/New_York'}"
   ]
  },
  {
   "cell_type": "code",
   "execution_count": null,
   "id": "7a96f48c-79f9-4f3a-b9be-019c4eeecbcb",
   "metadata": {},
   "outputs": [],
   "source": [
    "#main_df_preprocess.reset_index(inplace = True)\n",
    "main_df_preprocess[main_df_preprocess['key']==\"ATL\"]"
   ]
  },
  {
   "cell_type": "code",
   "execution_count": null,
   "id": "323e044c-cee7-4222-b712-ccc79b90385b",
   "metadata": {},
   "outputs": [],
   "source": [
    "df.head()"
   ]
  },
  {
   "cell_type": "code",
   "execution_count": null,
   "id": "519be13d-200a-4c35-a458-a1c634109f7b",
   "metadata": {},
   "outputs": [],
   "source": [
    "df.info()"
   ]
  },
  {
   "cell_type": "code",
   "execution_count": null,
   "id": "c5ad8a51-6837-4e3e-93f4-74818d9ac521",
   "metadata": {},
   "outputs": [],
   "source": [
    "df.dtypes"
   ]
  },
  {
   "cell_type": "code",
   "execution_count": null,
   "id": "13b8846e-1015-4022-8202-6aa35b4e11b3",
   "metadata": {},
   "outputs": [],
   "source": [
    "type(df.DEP_TIME)"
   ]
  },
  {
   "cell_type": "code",
   "execution_count": null,
   "id": "016377d3-7d5b-467e-8cff-6d296aafeff6",
   "metadata": {},
   "outputs": [],
   "source": []
  },
  {
   "cell_type": "code",
   "execution_count": null,
   "id": "2018bf0e-0c4c-48cd-9b34-e658221593f5",
   "metadata": {},
   "outputs": [],
   "source": [
    "df['DEP_TIME']"
   ]
  },
  {
   "cell_type": "code",
   "execution_count": null,
   "id": "0c08a2c5-06c5-427d-8dc5-f8e9a6e9f85b",
   "metadata": {},
   "outputs": [],
   "source": [
    "# now.strftime(\"%H:%M:%S\")\n",
    "# .dt.strftime('%Y-%m-%d')\n",
    "print(type(df['FL_DATE']))\n",
    "print(type(df['CRS_DEP_TIME']))\n",
    "df['final_origin_date'] = pd.to_datetime(pd.to_datetime(df['FL_DATE']).dt.strftime('%Y-%m-%d') + ' ' + pd.to_datetime(df['CRS_DEP_TIME']).dt.strftime('%H:%M:%S'))\n",
    "df['final_origin_date']"
   ]
  },
  {
   "cell_type": "code",
   "execution_count": null,
   "id": "ef2a4a0f-8062-4118-87da-76741ed57f95",
   "metadata": {},
   "outputs": [],
   "source": [
    "main_df_preprocess['date'][0]"
   ]
  },
  {
   "cell_type": "code",
   "execution_count": null,
   "id": "bbedaae9-7e0a-47ef-8974-9589fc1a3edc",
   "metadata": {},
   "outputs": [],
   "source": [
    "import datetime\n",
    "import pytz\n",
    "\n",
    "main_df_preprocess['date'] =  pd.to_datetime(main_df_preprocess['date'])"
   ]
  },
  {
   "cell_type": "code",
   "execution_count": null,
   "id": "5d98a1a9-da45-44d6-8331-14c0b7c71084",
   "metadata": {},
   "outputs": [],
   "source": [
    "main_df_preprocess['date'] = main_df_preprocess.apply(lambda x: pytz.timezone(dic[x['key']]).localize(x['date']).astimezone(dic[x['key']]),axis=1)"
   ]
  },
  {
   "cell_type": "code",
   "execution_count": null,
   "id": "9b58edde-88dc-41d9-bbaa-6414bae2ea94",
   "metadata": {},
   "outputs": [],
   "source": [
    "main_df_preprocess['date'][1] - '2019-01-01 05:36:00-05:00'"
   ]
  },
  {
   "cell_type": "code",
   "execution_count": null,
   "id": "88ad2339-c651-4eae-82e6-bcc84ab4b9c3",
   "metadata": {},
   "outputs": [],
   "source": [
    "print(type(main_df_preprocess['date'][1]))"
   ]
  },
  {
   "cell_type": "code",
   "execution_count": null,
   "id": "da1fda80-b50a-4931-8917-93b6bf33d710",
   "metadata": {},
   "outputs": [],
   "source": [
    "print(main_df_preprocess['date'][1])\n",
    "print(main_df_preprocess['date'][360948])"
   ]
  },
  {
   "cell_type": "code",
   "execution_count": null,
   "id": "c9c5026b-7e35-465f-a2bd-93140260667e",
   "metadata": {},
   "outputs": [],
   "source": [
    "df1 = pd.merge(df,main_df_preprocess,left_on=['orig_airport','flight_date'],\n",
    "              right_on=['airport_code','date'])"
   ]
  },
  {
   "cell_type": "code",
   "execution_count": null,
   "id": "cba8f551-09c7-4512-a2f3-cb2dd45c37b9",
   "metadata": {},
   "outputs": [],
   "source": [
    "# print(df.columns)\n",
    "# print(df['FL_DATE'])\n",
    "df['ORIGIN_date'] = df.apply(lambda x: pd.Timestamp(x.FL_DATE).replace(hour=x['CRS_DEP_TIME'].hour, \n",
    "                                        minute=x['CRS_DEP_TIME'].minute, second=x['CRS_DEP_TIME'].second), axis=1)\n"
   ]
  },
  {
   "cell_type": "code",
   "execution_count": null,
   "id": "1cf39a13-ca82-4e86-a75f-5311a40fa701",
   "metadata": {},
   "outputs": [],
   "source": [
    "df.drop('temp', inplace = True, axis = 1)"
   ]
  },
  {
   "cell_type": "code",
   "execution_count": null,
   "id": "7de282f9-938d-43a7-8ade-508b6c72bf9e",
   "metadata": {},
   "outputs": [],
   "source": [
    "df"
   ]
  },
  {
   "cell_type": "code",
   "execution_count": null,
   "id": "2a939540-6d9c-4aa6-9592-2c4f305b38d9",
   "metadata": {},
   "outputs": [],
   "source": [
    "# print(df.columns)\n",
    "# print(df['FL_DATE'])\n",
    "df['DESTINATION_date'] = df.apply(lambda x: pd.Timestamp(x.FL_DATE).replace(hour=x['CRS_ARR_TIME'].hour, \n",
    "                                        minute=x['CRS_ARR_TIME'].minute, second=x['CRS_ARR_TIME'].second), axis=1)\n"
   ]
  },
  {
   "cell_type": "code",
   "execution_count": null,
   "id": "cab77534-b56a-49e5-aec4-afacd57db767",
   "metadata": {},
   "outputs": [],
   "source": [
    "df.reset_index(inplace = True)"
   ]
  },
  {
   "cell_type": "code",
   "execution_count": null,
   "id": "2042872f-9a43-4e62-8e3a-39432ae27768",
   "metadata": {},
   "outputs": [],
   "source": [
    "df.drop(['index', 'level_0'], axis = 1, inplace = True)"
   ]
  },
  {
   "cell_type": "code",
   "execution_count": null,
   "id": "5e4cd773-352f-48ba-9fc5-f7a60808a57a",
   "metadata": {},
   "outputs": [],
   "source": [
    "from sklearn.neighbors import NearestNeighbors\n",
    "\n",
    "def find_nearest(group, match, groupname):\n",
    "    match = match[match[groupname] == group.name]\n",
    "    nbrs = NearestNeighbors(1).fit(match['Date'].values[:, None])\n",
    "    dist, ind = nbrs.kneighbors(group['Date'].values[:, None])\n",
    "\n",
    "    group['Date1'] = group['Date']\n",
    "    group['Date'] = match['Date'].values[ind.ravel()]\n",
    "    return group\n",
    "\n",
    "\n",
    "merged_df = df1.groupby('Code').apply(find_nearest, df2, 'Code')\n"
   ]
  },
  {
   "cell_type": "code",
   "execution_count": null,
   "id": "2d533104-ee75-43d2-b721-bc5dd36ffc4a",
   "metadata": {},
   "outputs": [],
   "source": [
    "main_df_preprocess['Origin_date'] = main_df_preprocess['date']\n",
    "main_df_preprocess['Origin_airport'] = main_df_preprocess['key']"
   ]
  },
  {
   "cell_type": "code",
   "execution_count": null,
   "id": "6ede68b8-133c-4ecc-a31b-7b9c94e99007",
   "metadata": {},
   "outputs": [],
   "source": [
    "df['Origin_date'] = df['ORIGIN_date']\n",
    "df['Origin_airport'] = df['ORIGIN']"
   ]
  },
  {
   "cell_type": "code",
   "execution_count": null,
   "id": "23a5c3f1-e3b4-456c-afa7-4f695ba074c6",
   "metadata": {},
   "outputs": [],
   "source": [
    "df.head()"
   ]
  },
  {
   "cell_type": "code",
   "execution_count": null,
   "id": "356c1627-2806-45c0-ab50-f0af3c32d5d1",
   "metadata": {},
   "outputs": [],
   "source": [
    "# tol = pd.Timedelta(value=15, unit= 'minutes')\n",
    "# print(type(main_df_preprocess['date'][1]))\n",
    "# print(type(df['ORIGIN_date'][1]))\n",
    "main_df_preprocess['Origin_date'] = main_df_preprocess['Origin_date'].apply(lambda x : x.replace(tzinfo=None))"
   ]
  },
  {
   "cell_type": "code",
   "execution_count": null,
   "id": "ec14698e-e027-428c-aaa1-83ee2e662abb",
   "metadata": {},
   "outputs": [],
   "source": [
    "merged_df = pd.merge_asof(df.sort_values('Origin_date'), main_df_preprocess.sort_values('Origin_date'),on = \"Origin_date\", by='Origin_airport', direction=\"nearest\", allow_exact_matches=True)\n"
   ]
  },
  {
   "cell_type": "code",
   "execution_count": null,
   "id": "f5f7e15b-58a5-4f5b-a081-ed55c0584ba8",
   "metadata": {},
   "outputs": [],
   "source": [
    "df['ORIGIN_date'][1])"
   ]
  },
  {
   "cell_type": "code",
   "execution_count": null,
   "id": "8641a997-0785-4be2-b6b9-f63d06f74791",
   "metadata": {},
   "outputs": [],
   "source": [
    "main_df_preprocess['date']\n"
   ]
  },
  {
   "cell_type": "code",
   "execution_count": null,
   "id": "3e52c901-c484-4fcc-a825-47e826492c9e",
   "metadata": {},
   "outputs": [],
   "source": [
    "merged_df.shape"
   ]
  },
  {
   "cell_type": "code",
   "execution_count": null,
   "id": "073a0bae-e586-4e79-936e-206327bd13bf",
   "metadata": {},
   "outputs": [],
   "source": [
    "merged_df.isna().sum()"
   ]
  },
  {
   "cell_type": "code",
   "execution_count": null,
   "id": "473d594e-52d6-4dfa-9bc3-a93d02ee91b7",
   "metadata": {},
   "outputs": [],
   "source": [
    "main_df_preprocess['DEST'] = main_df_preprocess['key']\n",
    "df['Dest_airport'] = df['DEST']"
   ]
  },
  {
   "cell_type": "code",
   "execution_count": null,
   "id": "2b16b8c9-b103-44c7-9f86-8b26c9ed63d4",
   "metadata": {},
   "outputs": [],
   "source": [
    "merged_df_dest = pd.merge_asof(merged_df.sort_values('Origin_date'), main_df_preprocess.sort_values('Origin_date'),on = \"Origin_date\", by='DEST', direction=\"nearest\", allow_exact_matches=True)\n"
   ]
  },
  {
   "cell_type": "code",
   "execution_count": null,
   "id": "b3eca002-793c-4d29-b8f1-d74aa1bced2b",
   "metadata": {},
   "outputs": [],
   "source": [
    "merged_df_dest.head()"
   ]
  },
  {
   "cell_type": "code",
   "execution_count": null,
   "id": "d85331ca-db13-4bfc-a1d1-9e5a15e5e7f2",
   "metadata": {},
   "outputs": [],
   "source": [
    "merged_df_dest.dewPt_x.nunique()"
   ]
  },
  {
   "cell_type": "code",
   "execution_count": null,
   "id": "d07ca222-6173-4277-bc0e-799acc858e2e",
   "metadata": {},
   "outputs": [],
   "source": [
    "remove_final_cols = ['QUARTER', 'DAY_OF_WEEK', 'FL_DATE', 'OP_CARRIER_AIRLINE_ID', 'ORIGIN_AIRPORT_ID', 'ORIGIN_AIRPORT_SEQ_ID', \\\n",
    "                     'ORIGIN_CITY_MARKET_ID', 'ORIGIN_CITY_NAME', 'ORIGIN_STATE_ABR', 'ORIGIN_STATE_NM', 'DEST_AIRPORT_ID', \\\n",
    "                     'DEST_AIRPORT_SEQ_ID', 'DEST_CITY_MARKET_ID', 'DEST_CITY_NAME', 'DEST_STATE_ABR', 'DEST_STATE_NM', \\\n",
    "                     'DEP_TIME', 'DEP_DELAY', 'DEP_DELAY_NEW', 'DEP_DEL15', 'ARR_TIME', 'ARR_DELAY', 'ARR_DELAY_NEW',  \\\n",
    "                     'ARR_DEL15', 'CRS_ELAPSED_TIME', 'ACTUAL_ELAPSED_TIME', 'AIR_TIME', 'DELAY_LEVEL', 'ARR_LEVEL', 'ORIGIN_date', 'DESTINATION_date', \\\n",
    "                     'Origin_date', 'Origin_airport_x', 'key_x', 'date_x', 'key_y', 'date_y', 'Origin_airport_y', 'Dest_airport']"
   ]
  },
  {
   "cell_type": "code",
   "execution_count": null,
   "id": "c9604a21-19e5-4c36-9956-ba872b682a3d",
   "metadata": {},
   "outputs": [],
   "source": [
    "final_merged_df = merged_df_dest.drop(columns = remove_final_cols)\n",
    "final_merged_df"
   ]
  },
  {
   "cell_type": "code",
   "execution_count": 518,
   "id": "32ebada3-6600-4dfe-8196-a057d8ecd518",
   "metadata": {},
   "outputs": [
    {
     "name": "stdout",
     "output_type": "stream",
     "text": [
      "<class 'pandas.core.frame.DataFrame'>\n",
      "Int64Index: 2380822 entries, 0 to 2380821\n",
      "Data columns (total 25 columns):\n",
      " #   Column             Dtype  \n",
      "---  ------             -----  \n",
      " 0   YEAR               int64  \n",
      " 1   MONTH              int64  \n",
      " 2   DAY_OF_MONTH       int64  \n",
      " 3   OP_CARRIER         object \n",
      " 4   OP_CARRIER_FL_NUM  int64  \n",
      " 5   ORIGIN             object \n",
      " 6   DEST               object \n",
      " 7   CRS_DEP_TIME       object \n",
      " 8   CRS_ARR_TIME       object \n",
      " 9   DISTANCE           float64\n",
      " 10  Total_Delay        float64\n",
      " 11  temp_x             float64\n",
      " 12  pressure_x         float64\n",
      " 13  wc_x               float64\n",
      " 14  wspd_x             float64\n",
      " 15  wx_phrase_x        object \n",
      " 16  dewPt_x            float64\n",
      " 17  vis_x              float64\n",
      " 18  temp_y             float64\n",
      " 19  pressure_y         float64\n",
      " 20  wc_y               float64\n",
      " 21  wspd_y             float64\n",
      " 22  wx_phrase_y        object \n",
      " 23  dewPt_y            float64\n",
      " 24  vis_y              float64\n",
      "dtypes: float64(14), int64(4), object(7)\n",
      "memory usage: 472.3+ MB\n"
     ]
    }
   ],
   "source": [
    "final_merged_df.info()"
   ]
  },
  {
   "cell_type": "code",
   "execution_count": null,
   "id": "933d894e-017a-4e13-9202-c23d0b6e63b7",
   "metadata": {},
   "outputs": [],
   "source": [
    "final_merged_df['CRS_DEP_TIME'] = pd.to(final_merged_df['CRS_DEP_TIME'],format='%H:%M:%S').dt.time"
   ]
  },
  {
   "cell_type": "code",
   "execution_count": 525,
   "id": "3d187295-ee59-45e3-a94d-9637b7baf5d6",
   "metadata": {},
   "outputs": [
    {
     "data": {
      "text/plain": [
       "0"
      ]
     },
     "execution_count": 525,
     "metadata": {},
     "output_type": "execute_result"
    }
   ],
   "source": [
    "final_merged_df['Hour'] = final_merged_df['CRS_DEP_TIME'][0]"
   ]
  },
  {
   "cell_type": "code",
   "execution_count": null,
   "id": "f2274136-7f8f-4543-9952-e6a64d6dbee9",
   "metadata": {},
   "outputs": [],
   "source": [
    "final_merged_df.to_csv('final.csv')"
   ]
  },
  {
   "cell_type": "code",
   "execution_count": 530,
   "id": "c4db11e9-a60b-42c6-84ca-ba258e04ac58",
   "metadata": {},
   "outputs": [],
   "source": [
    "final_merged_df['CRS_DEP_TIME'] = str(final_merged_df['CRS_DEP_TIME'])\n",
    "final_merged_df['CRS_ARR_TIME'] = str(final_merged_df['CRS_ARR_TIME'])"
   ]
  },
  {
   "cell_type": "code",
   "execution_count": 541,
   "id": "a915b29b-6592-4b68-b644-2cb37795fb4b",
   "metadata": {},
   "outputs": [
    {
     "ename": "ValueError",
     "evalue": "too many values to unpack (expected 3)",
     "output_type": "error",
     "traceback": [
      "\u001b[0;31m---------------------------------------------------------------------------\u001b[0m",
      "\u001b[0;31mValueError\u001b[0m                                Traceback (most recent call last)",
      "\u001b[0;32m<ipython-input-541-b6dea3433bcf>\u001b[0m in \u001b[0;36m<module>\u001b[0;34m\u001b[0m\n\u001b[0;32m----> 1\u001b[0;31m \u001b[0mhour\u001b[0m\u001b[0;34m,\u001b[0m \u001b[0mmini\u001b[0m\u001b[0;34m,\u001b[0m \u001b[0msec\u001b[0m \u001b[0;34m=\u001b[0m \u001b[0mfinal_merged_df\u001b[0m\u001b[0;34m.\u001b[0m\u001b[0mCRS_DEP_TIME\u001b[0m\u001b[0;34m.\u001b[0m\u001b[0mstr\u001b[0m\u001b[0;34m.\u001b[0m\u001b[0msplit\u001b[0m\u001b[0;34m(\u001b[0m\u001b[0;34m':'\u001b[0m\u001b[0;34m)\u001b[0m\u001b[0;34m\u001b[0m\u001b[0;34m\u001b[0m\u001b[0m\n\u001b[0m\u001b[1;32m      2\u001b[0m \u001b[0;34m\u001b[0m\u001b[0m\n\u001b[1;32m      3\u001b[0m \u001b[0;31m#final_merged_df[['hours', 'minutes', 'seconds']] = (\u001b[0m\u001b[0;34m\u001b[0m\u001b[0;34m\u001b[0m\u001b[0;34m\u001b[0m\u001b[0m\n\u001b[1;32m      4\u001b[0m    \u001b[0;31m#   pd.to_timedelta(v.str[-1]).dt.components.iloc[:, 0:3])\u001b[0m\u001b[0;34m\u001b[0m\u001b[0;34m\u001b[0m\u001b[0;34m\u001b[0m\u001b[0m\n",
      "\u001b[0;31mValueError\u001b[0m: too many values to unpack (expected 3)"
     ]
    }
   ],
   "source": [
    "hour, mini, sec = final_merged_df.CRS_DEP_TIME.str.split(':')\n",
    "\n",
    "#final_merged_df[['hours', 'minutes', 'seconds']] = (\n",
    "   #   pd.to_timedelta(v.str[-1]).dt.components.iloc[:, 0:3])"
   ]
  },
  {
   "cell_type": "code",
   "execution_count": 547,
   "id": "97daafdd-91fb-4ec4-946e-e0be7ea2c3ab",
   "metadata": {},
   "outputs": [
    {
     "data": {
      "text/plain": [
       "str"
      ]
     },
     "execution_count": 547,
     "metadata": {},
     "output_type": "execute_result"
    }
   ],
   "source": [
    "type(v[0][0])"
   ]
  },
  {
   "cell_type": "code",
   "execution_count": 544,
   "id": "21231ae8-f800-49f9-9a3e-69d3c8875bb2",
   "metadata": {},
   "outputs": [
    {
     "data": {
      "text/plain": [
       "['0          00',\n",
       " '05',\n",
       " '00\\n1          00',\n",
       " '05',\n",
       " '00\\n2          00',\n",
       " '05',\n",
       " '00\\n3          00',\n",
       " '05',\n",
       " '00\\n4          00',\n",
       " '09',\n",
       " '00\\n             ...   \\n2380817    23',\n",
       " '35',\n",
       " '00\\n2380818    23',\n",
       " '45',\n",
       " '00\\n2380819    23',\n",
       " '45',\n",
       " '00\\n2380820    23',\n",
       " '49',\n",
       " '00\\n2380821    23',\n",
       " '55',\n",
       " '00\\nName',\n",
       " ' CRS_DEP_TIME, Length',\n",
       " ' 2380822, dtype',\n",
       " ' object']"
      ]
     },
     "execution_count": 544,
     "metadata": {},
     "output_type": "execute_result"
    }
   ],
   "source": [
    "v[1]"
   ]
  },
  {
   "cell_type": "code",
   "execution_count": null,
   "id": "be87d39c-2238-4a5c-9e22-34ff337064b3",
   "metadata": {},
   "outputs": [],
   "source": [
    "final_merged_df['Hour'] = hour\n",
    "final_merged_df['Min'] = mini\n",
    "final_merged_df['Sec'] = sec"
   ]
  },
  {
   "cell_type": "code",
   "execution_count": 549,
   "id": "d1fdc084-e680-4a78-8ff2-ff6ddd819bf4",
   "metadata": {},
   "outputs": [
    {
     "ename": "TypeError",
     "evalue": "strptime() argument 1 must be str, not Series",
     "output_type": "error",
     "traceback": [
      "\u001b[0;31m---------------------------------------------------------------------------\u001b[0m",
      "\u001b[0;31mTypeError\u001b[0m                                 Traceback (most recent call last)",
      "\u001b[0;32m<ipython-input-549-77b8d03f1842>\u001b[0m in \u001b[0;36m<module>\u001b[0;34m\u001b[0m\n\u001b[1;32m      1\u001b[0m \u001b[0mcheck_in_time\u001b[0m \u001b[0;34m=\u001b[0m \u001b[0;34m[\u001b[0m\u001b[0;34m]\u001b[0m\u001b[0;34m\u001b[0m\u001b[0;34m\u001b[0m\u001b[0m\n\u001b[0;32m----> 2\u001b[0;31m \u001b[0mcheck_in_time\u001b[0m \u001b[0;34m=\u001b[0m \u001b[0mdatetime\u001b[0m\u001b[0;34m.\u001b[0m\u001b[0mdatetime\u001b[0m\u001b[0;34m.\u001b[0m\u001b[0mstrptime\u001b[0m\u001b[0;34m(\u001b[0m\u001b[0mfinal_merged_df\u001b[0m\u001b[0;34m[\u001b[0m\u001b[0;34m'CRS_DEP_TIME'\u001b[0m\u001b[0;34m]\u001b[0m\u001b[0;34m,\u001b[0m \u001b[0;34m'%H:%M:%S'\u001b[0m\u001b[0;34m)\u001b[0m\u001b[0;34m.\u001b[0m\u001b[0mtime\u001b[0m\u001b[0;34m(\u001b[0m\u001b[0;34m)\u001b[0m\u001b[0;34m\u001b[0m\u001b[0;34m\u001b[0m\u001b[0m\n\u001b[0m\u001b[1;32m      3\u001b[0m '''>>> check_in_time.hour\n\u001b[1;32m      4\u001b[0m \u001b[0;36m9\u001b[0m\u001b[0;34m\u001b[0m\u001b[0;34m\u001b[0m\u001b[0m\n\u001b[1;32m      5\u001b[0m \u001b[0;34m>>\u001b[0m\u001b[0;34m>\u001b[0m \u001b[0mcheck_in_time\u001b[0m\u001b[0;34m.\u001b[0m\u001b[0mminute\u001b[0m\u001b[0;34m\u001b[0m\u001b[0;34m\u001b[0m\u001b[0m\n",
      "\u001b[0;31mTypeError\u001b[0m: strptime() argument 1 must be str, not Series"
     ]
    }
   ],
   "source": [
    "# check_in_time = final_merged_df.apply(lambda x :  )\n",
    "\n",
    "check_in_time = datetime.datetime.strptime(final_merged_df['CRS_DEP_TIME'], '%H:%M:%S').time()\n",
    "'''>>> check_in_time.hour\n",
    "9\n",
    ">>> check_in_time.minute\n",
    "50\n",
    ">>> check_in_time.second\n",
    "35'''\n",
    "print(check_in_time)"
   ]
  },
  {
   "cell_type": "code",
   "execution_count": 550,
   "id": "066e576e-23ba-4b4c-be87-c740b8a144f6",
   "metadata": {},
   "outputs": [
    {
     "ename": "ValueError",
     "evalue": "time data '0          06:57:00\n1          06:57:00\n2          08:03:00\n3          08:03:00\n4          05:50:00\n             ...   \n2380817    07:36:00\n2380818    07:19:00\n2380819    01:21:00\n2380820    07:45:00\n2380821    05:46:00\nName: CRS_ARR_TIME, Length: 2380822, dtype: object' does not match format '%H:%M:%S' (match)",
     "output_type": "error",
     "traceback": [
      "\u001b[0;31m---------------------------------------------------------------------------\u001b[0m",
      "\u001b[0;31mTypeError\u001b[0m                                 Traceback (most recent call last)",
      "\u001b[0;32m/opt/anaconda3/lib/python3.8/site-packages/pandas/core/tools/datetimes.py\u001b[0m in \u001b[0;36m_convert_listlike_datetimes\u001b[0;34m(arg, format, name, tz, unit, errors, infer_datetime_format, dayfirst, yearfirst, exact)\u001b[0m\n\u001b[1;32m    455\u001b[0m             \u001b[0;32mtry\u001b[0m\u001b[0;34m:\u001b[0m\u001b[0;34m\u001b[0m\u001b[0;34m\u001b[0m\u001b[0m\n\u001b[0;32m--> 456\u001b[0;31m                 \u001b[0mvalues\u001b[0m\u001b[0;34m,\u001b[0m \u001b[0mtz\u001b[0m \u001b[0;34m=\u001b[0m \u001b[0mconversion\u001b[0m\u001b[0;34m.\u001b[0m\u001b[0mdatetime_to_datetime64\u001b[0m\u001b[0;34m(\u001b[0m\u001b[0marg\u001b[0m\u001b[0;34m)\u001b[0m\u001b[0;34m\u001b[0m\u001b[0;34m\u001b[0m\u001b[0m\n\u001b[0m\u001b[1;32m    457\u001b[0m                 \u001b[0mdta\u001b[0m \u001b[0;34m=\u001b[0m \u001b[0mDatetimeArray\u001b[0m\u001b[0;34m(\u001b[0m\u001b[0mvalues\u001b[0m\u001b[0;34m,\u001b[0m \u001b[0mdtype\u001b[0m\u001b[0;34m=\u001b[0m\u001b[0mtz_to_dtype\u001b[0m\u001b[0;34m(\u001b[0m\u001b[0mtz\u001b[0m\u001b[0;34m)\u001b[0m\u001b[0;34m)\u001b[0m\u001b[0;34m\u001b[0m\u001b[0;34m\u001b[0m\u001b[0m\n",
      "\u001b[0;32mpandas/_libs/tslibs/conversion.pyx\u001b[0m in \u001b[0;36mpandas._libs.tslibs.conversion.datetime_to_datetime64\u001b[0;34m()\u001b[0m\n",
      "\u001b[0;31mTypeError\u001b[0m: Unrecognized value type: <class 'str'>",
      "\nDuring handling of the above exception, another exception occurred:\n",
      "\u001b[0;31mValueError\u001b[0m                                Traceback (most recent call last)",
      "\u001b[0;32m<ipython-input-550-0fd356b15b6e>\u001b[0m in \u001b[0;36m<module>\u001b[0;34m\u001b[0m\n\u001b[0;32m----> 1\u001b[0;31m \u001b[0mfinal_merged_df\u001b[0m\u001b[0;34m[\u001b[0m\u001b[0;34m'CRS_ARR_TIME'\u001b[0m\u001b[0;34m]\u001b[0m \u001b[0;34m=\u001b[0m \u001b[0mpd\u001b[0m\u001b[0;34m.\u001b[0m\u001b[0mto_datetime\u001b[0m\u001b[0;34m(\u001b[0m\u001b[0mfinal_merged_df\u001b[0m\u001b[0;34m[\u001b[0m\u001b[0;34m'CRS_ARR_TIME'\u001b[0m\u001b[0;34m]\u001b[0m\u001b[0;34m,\u001b[0m\u001b[0mformat\u001b[0m\u001b[0;34m=\u001b[0m\u001b[0;34m'%H:%M:%S'\u001b[0m\u001b[0;34m)\u001b[0m\u001b[0;34m.\u001b[0m\u001b[0mdt\u001b[0m\u001b[0;34m.\u001b[0m\u001b[0mtime\u001b[0m\u001b[0;34m\u001b[0m\u001b[0;34m\u001b[0m\u001b[0m\n\u001b[0m",
      "\u001b[0;32m/opt/anaconda3/lib/python3.8/site-packages/pandas/core/tools/datetimes.py\u001b[0m in \u001b[0;36mto_datetime\u001b[0;34m(arg, errors, dayfirst, yearfirst, utc, format, exact, unit, infer_datetime_format, origin, cache)\u001b[0m\n\u001b[1;32m    799\u001b[0m                 \u001b[0mresult\u001b[0m \u001b[0;34m=\u001b[0m \u001b[0mresult\u001b[0m\u001b[0;34m.\u001b[0m\u001b[0mtz_localize\u001b[0m\u001b[0;34m(\u001b[0m\u001b[0mtz\u001b[0m\u001b[0;34m)\u001b[0m\u001b[0;34m\u001b[0m\u001b[0;34m\u001b[0m\u001b[0m\n\u001b[1;32m    800\u001b[0m     \u001b[0;32melif\u001b[0m \u001b[0misinstance\u001b[0m\u001b[0;34m(\u001b[0m\u001b[0marg\u001b[0m\u001b[0;34m,\u001b[0m \u001b[0mABCSeries\u001b[0m\u001b[0;34m)\u001b[0m\u001b[0;34m:\u001b[0m\u001b[0;34m\u001b[0m\u001b[0;34m\u001b[0m\u001b[0m\n\u001b[0;32m--> 801\u001b[0;31m         \u001b[0mcache_array\u001b[0m \u001b[0;34m=\u001b[0m \u001b[0m_maybe_cache\u001b[0m\u001b[0;34m(\u001b[0m\u001b[0marg\u001b[0m\u001b[0;34m,\u001b[0m \u001b[0mformat\u001b[0m\u001b[0;34m,\u001b[0m \u001b[0mcache\u001b[0m\u001b[0;34m,\u001b[0m \u001b[0mconvert_listlike\u001b[0m\u001b[0;34m)\u001b[0m\u001b[0;34m\u001b[0m\u001b[0;34m\u001b[0m\u001b[0m\n\u001b[0m\u001b[1;32m    802\u001b[0m         \u001b[0;32mif\u001b[0m \u001b[0;32mnot\u001b[0m \u001b[0mcache_array\u001b[0m\u001b[0;34m.\u001b[0m\u001b[0mempty\u001b[0m\u001b[0;34m:\u001b[0m\u001b[0;34m\u001b[0m\u001b[0;34m\u001b[0m\u001b[0m\n\u001b[1;32m    803\u001b[0m             \u001b[0mresult\u001b[0m \u001b[0;34m=\u001b[0m \u001b[0marg\u001b[0m\u001b[0;34m.\u001b[0m\u001b[0mmap\u001b[0m\u001b[0;34m(\u001b[0m\u001b[0mcache_array\u001b[0m\u001b[0;34m)\u001b[0m\u001b[0;34m\u001b[0m\u001b[0;34m\u001b[0m\u001b[0m\n",
      "\u001b[0;32m/opt/anaconda3/lib/python3.8/site-packages/pandas/core/tools/datetimes.py\u001b[0m in \u001b[0;36m_maybe_cache\u001b[0;34m(arg, format, cache, convert_listlike)\u001b[0m\n\u001b[1;32m    176\u001b[0m         \u001b[0munique_dates\u001b[0m \u001b[0;34m=\u001b[0m \u001b[0munique\u001b[0m\u001b[0;34m(\u001b[0m\u001b[0marg\u001b[0m\u001b[0;34m)\u001b[0m\u001b[0;34m\u001b[0m\u001b[0;34m\u001b[0m\u001b[0m\n\u001b[1;32m    177\u001b[0m         \u001b[0;32mif\u001b[0m \u001b[0mlen\u001b[0m\u001b[0;34m(\u001b[0m\u001b[0munique_dates\u001b[0m\u001b[0;34m)\u001b[0m \u001b[0;34m<\u001b[0m \u001b[0mlen\u001b[0m\u001b[0;34m(\u001b[0m\u001b[0marg\u001b[0m\u001b[0;34m)\u001b[0m\u001b[0;34m:\u001b[0m\u001b[0;34m\u001b[0m\u001b[0;34m\u001b[0m\u001b[0m\n\u001b[0;32m--> 178\u001b[0;31m             \u001b[0mcache_dates\u001b[0m \u001b[0;34m=\u001b[0m \u001b[0mconvert_listlike\u001b[0m\u001b[0;34m(\u001b[0m\u001b[0munique_dates\u001b[0m\u001b[0;34m,\u001b[0m \u001b[0mformat\u001b[0m\u001b[0;34m)\u001b[0m\u001b[0;34m\u001b[0m\u001b[0;34m\u001b[0m\u001b[0m\n\u001b[0m\u001b[1;32m    179\u001b[0m             \u001b[0mcache_array\u001b[0m \u001b[0;34m=\u001b[0m \u001b[0mSeries\u001b[0m\u001b[0;34m(\u001b[0m\u001b[0mcache_dates\u001b[0m\u001b[0;34m,\u001b[0m \u001b[0mindex\u001b[0m\u001b[0;34m=\u001b[0m\u001b[0munique_dates\u001b[0m\u001b[0;34m)\u001b[0m\u001b[0;34m\u001b[0m\u001b[0;34m\u001b[0m\u001b[0m\n\u001b[1;32m    180\u001b[0m     \u001b[0;32mreturn\u001b[0m \u001b[0mcache_array\u001b[0m\u001b[0;34m\u001b[0m\u001b[0;34m\u001b[0m\u001b[0m\n",
      "\u001b[0;32m/opt/anaconda3/lib/python3.8/site-packages/pandas/core/tools/datetimes.py\u001b[0m in \u001b[0;36m_convert_listlike_datetimes\u001b[0;34m(arg, format, name, tz, unit, errors, infer_datetime_format, dayfirst, yearfirst, exact)\u001b[0m\n\u001b[1;32m    458\u001b[0m                 \u001b[0;32mreturn\u001b[0m \u001b[0mDatetimeIndex\u001b[0m\u001b[0;34m.\u001b[0m\u001b[0m_simple_new\u001b[0m\u001b[0;34m(\u001b[0m\u001b[0mdta\u001b[0m\u001b[0;34m,\u001b[0m \u001b[0mname\u001b[0m\u001b[0;34m=\u001b[0m\u001b[0mname\u001b[0m\u001b[0;34m)\u001b[0m\u001b[0;34m\u001b[0m\u001b[0;34m\u001b[0m\u001b[0m\n\u001b[1;32m    459\u001b[0m             \u001b[0;32mexcept\u001b[0m \u001b[0;34m(\u001b[0m\u001b[0mValueError\u001b[0m\u001b[0;34m,\u001b[0m \u001b[0mTypeError\u001b[0m\u001b[0;34m)\u001b[0m\u001b[0;34m:\u001b[0m\u001b[0;34m\u001b[0m\u001b[0;34m\u001b[0m\u001b[0m\n\u001b[0;32m--> 460\u001b[0;31m                 \u001b[0;32mraise\u001b[0m \u001b[0me\u001b[0m\u001b[0;34m\u001b[0m\u001b[0;34m\u001b[0m\u001b[0m\n\u001b[0m\u001b[1;32m    461\u001b[0m \u001b[0;34m\u001b[0m\u001b[0m\n\u001b[1;32m    462\u001b[0m     \u001b[0;32mif\u001b[0m \u001b[0mresult\u001b[0m \u001b[0;32mis\u001b[0m \u001b[0;32mNone\u001b[0m\u001b[0;34m:\u001b[0m\u001b[0;34m\u001b[0m\u001b[0;34m\u001b[0m\u001b[0m\n",
      "\u001b[0;32m/opt/anaconda3/lib/python3.8/site-packages/pandas/core/tools/datetimes.py\u001b[0m in \u001b[0;36m_convert_listlike_datetimes\u001b[0;34m(arg, format, name, tz, unit, errors, infer_datetime_format, dayfirst, yearfirst, exact)\u001b[0m\n\u001b[1;32m    421\u001b[0m             \u001b[0;32mif\u001b[0m \u001b[0mresult\u001b[0m \u001b[0;32mis\u001b[0m \u001b[0;32mNone\u001b[0m\u001b[0;34m:\u001b[0m\u001b[0;34m\u001b[0m\u001b[0;34m\u001b[0m\u001b[0m\n\u001b[1;32m    422\u001b[0m                 \u001b[0;32mtry\u001b[0m\u001b[0;34m:\u001b[0m\u001b[0;34m\u001b[0m\u001b[0;34m\u001b[0m\u001b[0m\n\u001b[0;32m--> 423\u001b[0;31m                     result, timezones = array_strptime(\n\u001b[0m\u001b[1;32m    424\u001b[0m                         \u001b[0marg\u001b[0m\u001b[0;34m,\u001b[0m \u001b[0mformat\u001b[0m\u001b[0;34m,\u001b[0m \u001b[0mexact\u001b[0m\u001b[0;34m=\u001b[0m\u001b[0mexact\u001b[0m\u001b[0;34m,\u001b[0m \u001b[0merrors\u001b[0m\u001b[0;34m=\u001b[0m\u001b[0merrors\u001b[0m\u001b[0;34m\u001b[0m\u001b[0;34m\u001b[0m\u001b[0m\n\u001b[1;32m    425\u001b[0m                     )\n",
      "\u001b[0;32mpandas/_libs/tslibs/strptime.pyx\u001b[0m in \u001b[0;36mpandas._libs.tslibs.strptime.array_strptime\u001b[0;34m()\u001b[0m\n",
      "\u001b[0;31mValueError\u001b[0m: time data '0          06:57:00\n1          06:57:00\n2          08:03:00\n3          08:03:00\n4          05:50:00\n             ...   \n2380817    07:36:00\n2380818    07:19:00\n2380819    01:21:00\n2380820    07:45:00\n2380821    05:46:00\nName: CRS_ARR_TIME, Length: 2380822, dtype: object' does not match format '%H:%M:%S' (match)"
     ]
    }
   ],
   "source": [
    "final_merged_df['CRS_ARR_TIME'] = pd.to_datetime(final_merged_df['CRS_ARR_TIME'],format='%H:%M:%S').dt.time"
   ]
  },
  {
   "cell_type": "code",
   "execution_count": null,
   "id": "04ac3dbe-d1de-476b-8a0b-1cf20959b26c",
   "metadata": {},
   "outputs": [],
   "source": [
    "final_merged_df['temp_x'] = final_merged_df['temp_x'].astype(float)\n",
    "final_merged_df['pressure_x'] = final_merged_df['pressure_x'].astype(float)\n",
    "final_merged_df['wc_x'] = final_merged_df['wc_x'].astype(float)\n",
    "final_merged_df['wspd_x'] = final_merged_df['wspd_x'].astype(float)\n",
    "final_merged_df['dewPt_x'] = final_merged_df['dewPt_x'].astype(float)\n",
    "final_merged_df['vis_x'] = final_merged_df['vis_x'].astype(float)\n",
    "final_merged_df['temp_y'] = final_merged_df['temp_y'].astype(float)\n",
    "final_merged_df['pressure_y'] = final_merged_df['pressure_y'].astype(float)\n",
    "final_merged_df['wc_y'] = final_merged_df['wc_y'].astype(float)\n",
    "final_merged_df['wspd_y'] = final_merged_df['wspd_y'].astype(float)\n",
    "final_merged_df['dewPt_y'] = final_merged_df['dewPt_y'].astype(float)\n",
    "final_merged_df['vis_y'] = final_merged_df['vis_y'].astype(float)"
   ]
  },
  {
   "cell_type": "code",
   "execution_count": null,
   "id": "47ad2a88-7d37-4ce6-b4a8-563318166c31",
   "metadata": {},
   "outputs": [],
   "source": [
    "def column_types(df):\n",
    "    category_cols = []\n",
    "    for col in df.columns:\n",
    "        if df[col].dtype.name == 'object':\n",
    "            category_cols.append(col)\n",
    "    return category_cols"
   ]
  },
  {
   "cell_type": "code",
   "execution_count": null,
   "id": "bd9f3bae-6127-4f50-9a7f-787019f43822",
   "metadata": {},
   "outputs": [],
   "source": [
    "category_cols = column_types(final_merged_df)\n",
    "category_cols"
   ]
  },
  {
   "cell_type": "code",
   "execution_count": 531,
   "id": "60fb46cb-eeec-4f43-b06b-abf952643ebb",
   "metadata": {},
   "outputs": [
    {
     "name": "stdout",
     "output_type": "stream",
     "text": [
      "<class 'pandas.core.frame.DataFrame'>\n",
      "Int64Index: 2380822 entries, 0 to 2380821\n",
      "Data columns (total 25 columns):\n",
      " #   Column             Dtype  \n",
      "---  ------             -----  \n",
      " 0   YEAR               int64  \n",
      " 1   MONTH              int64  \n",
      " 2   DAY_OF_MONTH       int64  \n",
      " 3   OP_CARRIER         object \n",
      " 4   OP_CARRIER_FL_NUM  int64  \n",
      " 5   ORIGIN             object \n",
      " 6   DEST               object \n",
      " 7   CRS_DEP_TIME       object \n",
      " 8   CRS_ARR_TIME       object \n",
      " 9   DISTANCE           float64\n",
      " 10  Total_Delay        float64\n",
      " 11  temp_x             float64\n",
      " 12  pressure_x         float64\n",
      " 13  wc_x               float64\n",
      " 14  wspd_x             float64\n",
      " 15  wx_phrase_x        object \n",
      " 16  dewPt_x            float64\n",
      " 17  vis_x              float64\n",
      " 18  temp_y             float64\n",
      " 19  pressure_y         float64\n",
      " 20  wc_y               float64\n",
      " 21  wspd_y             float64\n",
      " 22  wx_phrase_y        object \n",
      " 23  dewPt_y            float64\n",
      " 24  vis_y              float64\n",
      "dtypes: float64(14), int64(4), object(7)\n",
      "memory usage: 472.3+ MB\n"
     ]
    }
   ],
   "source": [
    "final_merged_df.info()"
   ]
  },
  {
   "cell_type": "code",
   "execution_count": null,
   "id": "a157d35f-5545-4882-a5c5-f5a66679c903",
   "metadata": {},
   "outputs": [],
   "source": []
  }
 ],
 "metadata": {
  "kernelspec": {
   "display_name": "Python 3",
   "language": "python",
   "name": "python3"
  },
  "language_info": {
   "codemirror_mode": {
    "name": "ipython",
    "version": 3
   },
   "file_extension": ".py",
   "mimetype": "text/x-python",
   "name": "python",
   "nbconvert_exporter": "python",
   "pygments_lexer": "ipython3",
   "version": "3.8.8"
  }
 },
 "nbformat": 4,
 "nbformat_minor": 5
}
